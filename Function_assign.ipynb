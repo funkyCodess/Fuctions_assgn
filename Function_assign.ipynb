{
  "nbformat": 4,
  "nbformat_minor": 0,
  "metadata": {
    "colab": {
      "provenance": []
    },
    "kernelspec": {
      "name": "python3",
      "display_name": "Python 3"
    },
    "language_info": {
      "name": "python"
    }
  },
  "cells": [
    {
      "cell_type": "markdown",
      "source": [
        "#Function Assignment\n",
        "\n"
      ],
      "metadata": {
        "id": "XllBKw0BlknK"
      }
    },
    {
      "cell_type": "markdown",
      "source": [
        "1. What is the difference between a function and a method in Python?\n",
        "\n",
        "  - Defination:\n",
        "\n",
        "  Function: A reusable block of code defined independently using the def keyword.\n",
        "\n",
        "  Method: A function defined inside a class that operates on class or instance data.\n",
        "\n",
        " -  Association:\n",
        "\n",
        "  Function: Not tied to any object or class; works independently.\n",
        "\n",
        "  Method: Tied to an object or class; typically manipulates the object's data.\n",
        "\n",
        "  - Call Syntax:\n",
        "\n",
        "  Function: Called directly using its name, e.g., function_name().\n",
        "\n",
        "  Method: Called on an object or class, e.g., object.method_name() or Class.method_name().\n",
        "\n",
        "  - Self Parameter:\n",
        "\n",
        "  Function: No self parameter is required.\n",
        "\n",
        "  Method: Instance methods require self to access the object's attributes and methods.\n",
        "\n",
        "  - Scope:\n",
        "\n",
        "  Function: Defined globally or within another function.\n",
        "\n",
        "  Method: Defined within a class and associated with its objects or the class itself."
      ],
      "metadata": {
        "id": "G5ADPyCu9I09"
      }
    },
    {
      "cell_type": "code",
      "source": [
        "# Function\n",
        "def greet(name):\n",
        "  return f\"Hello, {name}\"\n",
        "\n",
        "# Method\n",
        "class Person:\n",
        "\n",
        "  def greet(self):\n",
        "      return f\"Hello, {self.name}\"\n"
      ],
      "metadata": {
        "id": "NlZhJLJo6dKo"
      },
      "execution_count": null,
      "outputs": []
    },
    {
      "cell_type": "markdown",
      "source": [
        "2. Function Arguments and Parameters in Python.\n",
        "\n",
        "  - Parameters: Variables defined in the function signature to accept inputs.\n",
        "\n",
        "  - Arguments: Actual values passed when the function is called.\n",
        "\n",
        "    **Types of Arguments:**\n",
        "\n",
        "      Positional Arguments: Passed in the same order as parameters.\n",
        "\n",
        "      Keyword Arguments: Passed as key=value.\n",
        "\n",
        "      Default Arguments: Provide default values for parameters.\n",
        "      \n",
        "      Variable-Length Arguments: Use *args for positional and **kwargs for keyword arguments."
      ],
      "metadata": {
        "id": "RHDzJhF0_7rC"
      }
    },
    {
      "cell_type": "code",
      "source": [
        "def display_info(name, age=25, *hobbies, **details):\n",
        "    print(f\"Name: {name}, Age: {age}\")\n",
        "    print(\"Hobbies:\", hobbies)\n",
        "    print(\"Details:\", details)\n",
        "\n",
        "display_info(\"Sneha\", 23, \"Reading\", \"Cycling\", city=\"New York\", occupation=\"Engineer\")\n"
      ],
      "metadata": {
        "colab": {
          "base_uri": "https://localhost:8080/"
        },
        "id": "C-PZ6S29AZqm",
        "outputId": "397ee5fd-dab9-4d59-fb81-fddaea8ebd8b"
      },
      "execution_count": null,
      "outputs": [
        {
          "output_type": "stream",
          "name": "stdout",
          "text": [
            "Name: Sneha, Age: 23\n",
            "Hobbies: ('Reading', 'Cycling')\n",
            "Details: {'city': 'New York', 'occupation': 'Engineer'}\n"
          ]
        }
      ]
    },
    {
      "cell_type": "markdown",
      "source": [
        "3 - Different Ways to Define and Call a Function in Python ?\n",
        "\n",
        "  - Standard Function\n",
        "\n",
        "  Definition: Defined using the def keyword.\n",
        "  \n",
        "  Calling: Use the function name followed by parentheses, passing arguments if required"
      ],
      "metadata": {
        "id": "n4SV7YWQAzNP"
      }
    },
    {
      "cell_type": "code",
      "source": [
        "def greet(name):\n",
        "  return f\"Hello, {name}\"\n",
        "\n",
        "print(greet(\"Sneha\"))\n"
      ],
      "metadata": {
        "colab": {
          "base_uri": "https://localhost:8080/"
        },
        "id": "aUFgvocUHUgm",
        "outputId": "bfea4e11-2533-45c6-bd83-47a7f0ec952a"
      },
      "execution_count": null,
      "outputs": [
        {
          "output_type": "stream",
          "name": "stdout",
          "text": [
            "Hello, Sneha\n"
          ]
        }
      ]
    },
    {
      "cell_type": "markdown",
      "source": [
        "  - Lambda (Anonymous) Function\n",
        "  \n",
        "  Definition: Defined using the lambda keyword for single-line, anonymous functions.\n",
        "\n",
        "  Calling: Call it directly or assign it to a variable."
      ],
      "metadata": {
        "id": "PuvgxWesHpb6"
      }
    },
    {
      "cell_type": "code",
      "source": [
        "# Directly calling a lambda\n",
        "print((lambda x, y: x + y)(2, 3))\n",
        "\n",
        "add = lambda a, b: a + b\n",
        "print(add(5, 7))\n"
      ],
      "metadata": {
        "colab": {
          "base_uri": "https://localhost:8080/"
        },
        "id": "hw6vPInq6goy",
        "outputId": "411937be-7de2-4998-d52d-668503c65f8b"
      },
      "execution_count": null,
      "outputs": [
        {
          "output_type": "stream",
          "name": "stdout",
          "text": [
            "5\n",
            "12\n"
          ]
        }
      ]
    },
    {
      "cell_type": "markdown",
      "source": [
        "  - Recursive Function\n",
        "\n",
        "  Definition: A function that calls itself, with a base condition to avoid infinite recursion.\n",
        "  \n",
        "  Calling: Call it normally, ensuring the input decreases towards the base condition."
      ],
      "metadata": {
        "id": "XeG-zr8DIeWh"
      }
    },
    {
      "cell_type": "code",
      "source": [
        "def factorial(n):\n",
        "\n",
        "  if n == 1:\n",
        "    return 1\n",
        "\n",
        "  return n * factorial(n - 1)\n",
        "\n",
        "print(factorial(5))\n"
      ],
      "metadata": {
        "colab": {
          "base_uri": "https://localhost:8080/"
        },
        "id": "BfCsctyfIEKJ",
        "outputId": "0d415552-2324-4e93-cc90-972df3b48cac"
      },
      "execution_count": null,
      "outputs": [
        {
          "output_type": "stream",
          "name": "stdout",
          "text": [
            "120\n"
          ]
        }
      ]
    },
    {
      "cell_type": "markdown",
      "source": [
        "  - Variable-Length Arguments\n",
        "\n",
        "  Definition: Use *args for arbitrary positional arguments and **kwargs for arbitrary keyword arguments.\n",
        "  \n",
        "  Calling: Pass multiple positional or keyword arguments."
      ],
      "metadata": {
        "id": "fcSimaKkJUFK"
      }
    },
    {
      "cell_type": "code",
      "source": [
        "def summarize(*args, **kwargs):\n",
        "    print(\"Positional args:\", args)\n",
        "    print(\"Keyword args:\", kwargs)\n",
        "\n",
        "summarize(1, 2, name=\"Sneha\", age=23)\n"
      ],
      "metadata": {
        "colab": {
          "base_uri": "https://localhost:8080/"
        },
        "id": "Oxk2s9KYI64m",
        "outputId": "a50d92ec-2cd0-43dd-9b7c-384829b62538"
      },
      "execution_count": null,
      "outputs": [
        {
          "output_type": "stream",
          "name": "stdout",
          "text": [
            "Positional args: (1, 2)\n",
            "Keyword args: {'name': 'Sneha', 'age': 23}\n"
          ]
        }
      ]
    },
    {
      "cell_type": "markdown",
      "source": [
        "  - Default Arguments\n",
        "\n",
        "  Definition: Functions with default parameter values.\n",
        "  \n",
        "  Calling: Use default values if no argument is passed, or override them."
      ],
      "metadata": {
        "id": "p-pcYRrzJw-t"
      }
    },
    {
      "cell_type": "code",
      "source": [
        "def greet(name=\"Guest\"):\n",
        "    return f\"Hello, {name}\"\n",
        "\n",
        "print(greet())\n",
        "print(greet(\"Bob\"))\n"
      ],
      "metadata": {
        "colab": {
          "base_uri": "https://localhost:8080/"
        },
        "id": "2sgnXXDvJvXR",
        "outputId": "3894afcf-b7f8-4feb-e0c9-93ff0bc743ec"
      },
      "execution_count": null,
      "outputs": [
        {
          "output_type": "stream",
          "name": "stdout",
          "text": [
            "Hello, Guest\n",
            "Hello, Bob\n"
          ]
        }
      ]
    },
    {
      "cell_type": "markdown",
      "source": [
        "4. Purpose of the return Statement in a Python Function?\n",
        "\n",
        "  - Ends the function execution and sends a value back to the caller.\n",
        "\n",
        "  - Allows the function's result to be stored, reused, or further processed.\n",
        "\n",
        "**Example** :"
      ],
      "metadata": {
        "id": "nFUvSXkHLMmN"
      }
    },
    {
      "cell_type": "code",
      "source": [
        "def calculate_square(num):\n",
        "  return num ** 2\n",
        "\n",
        "result = calculate_square(5)\n",
        "print(result)\n"
      ],
      "metadata": {
        "colab": {
          "base_uri": "https://localhost:8080/"
        },
        "id": "M8K2W4fIK8Di",
        "outputId": "7cd7ae63-fe25-4332-abfe-175135da32c3"
      },
      "execution_count": null,
      "outputs": [
        {
          "output_type": "stream",
          "name": "stdout",
          "text": [
            "25\n"
          ]
        }
      ]
    },
    {
      "cell_type": "markdown",
      "source": [
        "5.  What are iterators in Python and how do they differ from iterables?\n",
        "\n",
        "  - Iterable: Any object capable of returning its elements one at a time (e.g., lists, strings). Implements __iter__().\n",
        "\n",
        "  - Iterator: An object with a __next__() method to fetch successive elements. Implements both __iter__() and __next__().\n",
        "\n",
        "**Key Difference:**\n",
        "\n",
        "  - Iterables can be converted into iterators using iter().\n",
        "\n",
        "  - Iterators retain their state and produce elements one by one.\n",
        "\n",
        "**Example:**"
      ],
      "metadata": {
        "id": "9k_M-e_wNaRb"
      }
    },
    {
      "cell_type": "code",
      "source": [
        "my_list = [1, 2, 3]\n",
        "\n",
        "my_iterator = iter(my_list)\n",
        "\n",
        "print(next(my_iterator))\n",
        "print(next(my_iterator))\n"
      ],
      "metadata": {
        "colab": {
          "base_uri": "https://localhost:8080/"
        },
        "id": "4UlqbXI2MXmj",
        "outputId": "74b4b7a4-4ebc-431c-e925-b454fbca2f39"
      },
      "execution_count": null,
      "outputs": [
        {
          "output_type": "stream",
          "name": "stdout",
          "text": [
            "1\n",
            "2\n"
          ]
        }
      ]
    },
    {
      "cell_type": "markdown",
      "source": [
        "6. Explain the concept of generators in Python and how they are defined.\n",
        "\n",
        "  - Generators are a type of iterable in Python that generate values on the fly using the yield keyword. They are defined like normal functions but use yield instead of return. When called, they return an iterator object that produces values one at a time, pausing and resuming their execution state between calls.\n",
        "\n",
        "**Example:**"
      ],
      "metadata": {
        "id": "7Ehl-ofbTrB5"
      }
    },
    {
      "cell_type": "code",
      "source": [
        "def count_up_to(n):\n",
        "  count = 1\n",
        "  while count <= n:\n",
        "    yield count\n",
        "    count += 1\n",
        "\n",
        "gen = count_up_to(5)\n",
        "print(next(gen))\n",
        "print(next(gen))\n"
      ],
      "metadata": {
        "colab": {
          "base_uri": "https://localhost:8080/"
        },
        "id": "0_fIAM5ARFex",
        "outputId": "6db04f26-0e2f-44e2-a0fc-dd3d6dcd7d08"
      },
      "execution_count": null,
      "outputs": [
        {
          "output_type": "stream",
          "name": "stdout",
          "text": [
            "1\n",
            "2\n"
          ]
        }
      ]
    },
    {
      "cell_type": "markdown",
      "source": [
        "7. What are the advantages of using generators over regular functions?\n",
        "\n",
        "  - Memory Efficiency: Generators do not store all values in memory; they generate values on demand."
      ],
      "metadata": {
        "id": "i5WBL91XUj3h"
      }
    },
    {
      "cell_type": "code",
      "source": [
        "gen = (x * x for x in range(10**6))\n"
      ],
      "metadata": {
        "id": "Rjh7705dUg8u"
      },
      "execution_count": null,
      "outputs": []
    },
    {
      "cell_type": "markdown",
      "source": [
        "  - Lazy Evaluation: Values are computed only when needed, which is beneficial for large datasets.\n",
        "\n",
        "  - Infinite Sequences: They can produce infinite sequences without running out of memory."
      ],
      "metadata": {
        "id": "LuZfAlr6U1t2"
      }
    },
    {
      "cell_type": "code",
      "source": [
        "def infinite_numbers():\n",
        "  count = 0\n",
        "  while True:\n",
        "      yield count\n",
        "      count += 1\n"
      ],
      "metadata": {
        "id": "k6FUx0ubUzrn"
      },
      "execution_count": null,
      "outputs": []
    },
    {
      "cell_type": "markdown",
      "source": [
        "  - Simpler Code for Iteration: Generators simplify the implementation of iterators.\n",
        "\n",
        "  - Pipelining: Generators can be chained together for efficient data processing."
      ],
      "metadata": {
        "id": "fAOLXXfWVU45"
      }
    },
    {
      "cell_type": "markdown",
      "source": [
        "8. What is a lambda function in Python and when is it typically used?\n",
        "\n",
        "  - A lambda function is an anonymous function defined using the lambda keyword. It can have multiple arguments but only a single expression.\n",
        "\n",
        "**Syntax:**"
      ],
      "metadata": {
        "id": "AXYJdnlmVlDe"
      }
    },
    {
      "cell_type": "code",
      "source": [
        "lambda arguments: expression\n"
      ],
      "metadata": {
        "colab": {
          "base_uri": "https://localhost:8080/"
        },
        "id": "cgNgwQzfVJyi",
        "outputId": "c4467a14-71c4-49cb-a1f6-0725cf64ec44"
      },
      "execution_count": null,
      "outputs": [
        {
          "output_type": "execute_result",
          "data": {
            "text/plain": [
              "<function __main__.<lambda>(arguments)>"
            ]
          },
          "metadata": {},
          "execution_count": 18
        }
      ]
    },
    {
      "cell_type": "markdown",
      "source": [
        "  - Typical Usage:\n",
        "\n",
        "  - Used for short, throwaway functions.\n",
        "  - Commonly used with functions like map(), filter(), and reduce()."
      ],
      "metadata": {
        "id": "0_yvI9oRV8gI"
      }
    },
    {
      "cell_type": "code",
      "source": [
        "# Lambda function to square a number\n",
        "square = lambda x: x * x\n",
        "print(square(5))\n"
      ],
      "metadata": {
        "colab": {
          "base_uri": "https://localhost:8080/"
        },
        "id": "RkPXgQIAV7F5",
        "outputId": "5e522a49-d051-47e7-afb3-d125d54e39ad"
      },
      "execution_count": null,
      "outputs": [
        {
          "output_type": "stream",
          "name": "stdout",
          "text": [
            "25\n"
          ]
        }
      ]
    },
    {
      "cell_type": "markdown",
      "source": [
        "9.  Explain the purpose and usage of the map() function in Python.\n",
        "\n",
        "-  The map() function applies a specified function to every item in an iterable (e.g., list, tuple) and returns an iterator of the results.\n",
        "\n",
        "**Syntax** :\n",
        "\n",
        "map(function, iterable)\n",
        "\n",
        "Example:"
      ],
      "metadata": {
        "id": "rK2HuswSWpSE"
      }
    },
    {
      "cell_type": "code",
      "source": [
        "numbers = [1, 2, 3, 4]\n",
        "squared = map(lambda x: x**2, numbers)\n",
        "print(list(squared))\n"
      ],
      "metadata": {
        "colab": {
          "base_uri": "https://localhost:8080/"
        },
        "id": "eAw1IP3MW8g1",
        "outputId": "fa049818-9983-43c3-8bb5-e84240d323c9"
      },
      "execution_count": null,
      "outputs": [
        {
          "output_type": "stream",
          "name": "stdout",
          "text": [
            "[1, 4, 9, 16]\n"
          ]
        }
      ]
    },
    {
      "cell_type": "markdown",
      "source": [
        "Purpose:\n",
        "\n",
        " - Transform data in an iterable.\n",
        "\n",
        " - Efficient for applying a single function to multiple elements."
      ],
      "metadata": {
        "id": "TOgRrc6MXvNC"
      }
    },
    {
      "cell_type": "markdown",
      "source": [
        "10.\n",
        "Differences Between map(), reduce(), and filter() in Python?\n",
        "\n",
        "  - 1. Purpose:\n",
        "\n",
        "  map(): Applies a function to each element in an iterable and returns a new iterable with the transformed elements.\n",
        "\n",
        "  reduce(): Combines all elements in an iterable into a single value by applying a cumulative function.\n",
        "\n",
        "  filter(): Filters elements in an iterable based on a condition and returns only the elements that satisfy the condition.\n",
        "\n",
        "\n",
        "  - 2. Function Application:\n",
        "\n",
        "  map(): The function is applied individually to each element.\n",
        "\n",
        "  reduce(): The function is applied cumulatively to combine elements.\n",
        "\n",
        "  filter(): The function acts as a condition to determine whether each element is included.\n",
        "\n",
        "\n",
        "  - 3. Return Type:\n",
        "\n",
        "  map(): Returns an iterator of transformed elements.\n",
        "\n",
        "  reduce(): Returns a single aggregated result.\n",
        "\n",
        "  filter(): Returns an iterator of filtered elements.\n",
        "\n",
        "\n",
        "\n",
        "  - 4. Input Requirement:\n",
        "\n",
        "   map(): Requires a function and one or more iterables of the same length.\n",
        "\n",
        "   reduce(): Requires a function and a single iterable.\n",
        "\n",
        "   filter(): Requires a function and a single iterable.\n",
        "\n",
        "\n",
        "  - 5. Typical Use Case:\n",
        "\n",
        "  map(): For transforming data.\n",
        "\n",
        "  reduce(): For aggregating data.\n",
        "  \n",
        "  filter(): For filtering data based on conditions\n",
        "\n",
        "\n"
      ],
      "metadata": {
        "id": "EOjE2qpBX3z4"
      }
    },
    {
      "cell_type": "code",
      "source": [
        "# map():\n",
        "\n",
        "numbers = [1, 2, 3]\n",
        "squared = map(lambda x: x**2, numbers)\n",
        "print(list(squared))\n"
      ],
      "metadata": {
        "colab": {
          "base_uri": "https://localhost:8080/"
        },
        "id": "aW_Dc5A2Xpkl",
        "outputId": "e1885429-77ca-4cac-9e47-ed5a24d8cb52"
      },
      "execution_count": null,
      "outputs": [
        {
          "output_type": "stream",
          "name": "stdout",
          "text": [
            "[1, 4, 9]\n"
          ]
        }
      ]
    },
    {
      "cell_type": "code",
      "source": [
        "# reduce():\n",
        "\n",
        "from functools import reduce\n",
        "numbers = [1, 2, 3]\n",
        "total = reduce(lambda x, y: x + y, numbers)\n",
        "print(total)\n"
      ],
      "metadata": {
        "colab": {
          "base_uri": "https://localhost:8080/"
        },
        "id": "ZocrdWbwa-Cw",
        "outputId": "05fdcedd-46a1-4d74-e5b3-0450f5f06bd2"
      },
      "execution_count": null,
      "outputs": [
        {
          "output_type": "stream",
          "name": "stdout",
          "text": [
            "6\n"
          ]
        }
      ]
    },
    {
      "cell_type": "code",
      "source": [
        "# filter():\n",
        "\n",
        "numbers = [1, 2, 3, 4]\n",
        "evens = filter(lambda x: x % 2 == 0, numbers)\n",
        "print(list(evens))\n"
      ],
      "metadata": {
        "colab": {
          "base_uri": "https://localhost:8080/"
        },
        "id": "BmxKNkEvbIJC",
        "outputId": "e89f1e49-dc30-4c2e-cda7-8ac45c8a8f71"
      },
      "execution_count": null,
      "outputs": [
        {
          "output_type": "stream",
          "name": "stdout",
          "text": [
            "[2, 4]\n"
          ]
        }
      ]
    },
    {
      "cell_type": "markdown",
      "source": [
        "11. write the internal mechanism for sum operation using  reduce function on this given\n",
        "list:[47,11,42,13];\n",
        "\n",
        "  - Given Input:\n",
        "List: [47, 11, 42, 13]\n",
        "Operation: Sum\n",
        "\n",
        "We’ll use reduce() from the functools module, which applies a given function cumulatively to the items in the list."
      ],
      "metadata": {
        "id": "2PVBaMUg_WZO"
      }
    },
    {
      "cell_type": "code",
      "source": [
        "reduce(lambda x, y: x + y, [47, 11, 42, 13])\n",
        "\n",
        "1st iteration: (47 + 11) = 58\n",
        "2nd iteration: (58 + 42) = 100\n",
        "3rd iteration: (100 + 13) = 113\n",
        "\n",
        "Result = 113\n"
      ],
      "metadata": {
        "id": "ZnD80npGLroK"
      },
      "execution_count": null,
      "outputs": []
    },
    {
      "cell_type": "code",
      "source": [
        "from functools import reduce\n",
        "\n",
        "numbers = [47, 11, 42, 13]\n",
        "result = reduce(lambda x, y: x + y, numbers)\n",
        "print(result)\n"
      ],
      "metadata": {
        "colab": {
          "base_uri": "https://localhost:8080/"
        },
        "id": "brs-Rp-hMCIk",
        "outputId": "946276dd-248e-4e9e-ec54-d6578298a4ed"
      },
      "execution_count": 8,
      "outputs": [
        {
          "output_type": "stream",
          "name": "stdout",
          "text": [
            "113\n"
          ]
        }
      ]
    },
    {
      "cell_type": "markdown",
      "source": [
        "# Practical Questions"
      ],
      "metadata": {
        "id": "LQ0brnrAMZOP"
      }
    },
    {
      "cell_type": "markdown",
      "source": [],
      "metadata": {
        "id": "B3HMbc_4NlTJ"
      }
    },
    {
      "cell_type": "code",
      "source": [
        "# 1. Write a Python function that takes a list of numbers as input and returns the sum of all even numbers in yhe list\n",
        "\n",
        "def sum_of_even_numbers(numbers):\n",
        "\n",
        "    return sum(num for num in numbers if num % 2 == 0)\n",
        "\n",
        "numbers_list = [1, 2, 3, 4, 5, 6]\n",
        "result = sum_of_even_numbers(numbers_list)\n",
        "print(\"Sum of even numbers:\", result)"
      ],
      "metadata": {
        "colab": {
          "base_uri": "https://localhost:8080/"
        },
        "id": "_EcEZndMNmNV",
        "outputId": "376e317f-786d-422a-baa1-1677ed0d1327"
      },
      "execution_count": 3,
      "outputs": [
        {
          "output_type": "stream",
          "name": "stdout",
          "text": [
            "Sum of even numbers: 12\n"
          ]
        }
      ]
    },
    {
      "cell_type": "code",
      "source": [
        "#2. Create a Python function that accepts a string and returns the reverse of that string.\n",
        "def reverse_string(input_string):\n",
        "\n",
        "  return input_string[::-1]\n",
        "\n",
        "string = \"Hello, World!\"\n",
        "result = reverse_string(string)\n",
        "print(\"Reversed string:\", result)\n",
        "\n",
        "\n"
      ],
      "metadata": {
        "colab": {
          "base_uri": "https://localhost:8080/"
        },
        "id": "mPj19GiEOZ2e",
        "outputId": "970d05c8-138a-4853-ee89-f6f0823f932c"
      },
      "execution_count": 4,
      "outputs": [
        {
          "output_type": "stream",
          "name": "stdout",
          "text": [
            "Reversed string: !dlroW ,olleH\n"
          ]
        }
      ]
    },
    {
      "cell_type": "code",
      "source": [
        "# 3. Implement a Python function that takes a list of integers and returns a new list containing the squares of each number.\n",
        "def square_numbers(numbers):\n",
        "\n",
        "  return [num ** 2 for num in numbers]\n",
        "\n",
        "numbers_list = [1, 2, 3, 4, 5]\n",
        "result = square_numbers(numbers_list)\n",
        "print(\"List of squares:\", result)\n"
      ],
      "metadata": {
        "colab": {
          "base_uri": "https://localhost:8080/"
        },
        "id": "bP2FcONQVV41",
        "outputId": "f10094f1-80a7-4205-a62a-72ad1a704cff"
      },
      "execution_count": 5,
      "outputs": [
        {
          "output_type": "stream",
          "name": "stdout",
          "text": [
            "List of squares: [1, 4, 9, 16, 25]\n"
          ]
        }
      ]
    },
    {
      "cell_type": "code",
      "source": [
        "#4. Write a Python function that checks if a given number is prime or not from 1 to 200.\n",
        "\n",
        "def is_prime(number):\n",
        "\n",
        "    if number <= 1:\n",
        "      return False\n",
        "    for i in range(2, int(number ** 0.5) + 1):\n",
        "      if number % i == 0:\n",
        "          return False\n",
        "    return True\n",
        "\n",
        "for num in range(1, 201):\n",
        "    if is_prime(num):\n",
        "        print(f\"{num} is a prime number.\")\n"
      ],
      "metadata": {
        "colab": {
          "base_uri": "https://localhost:8080/"
        },
        "id": "H-ar56nvVw06",
        "outputId": "795723c1-343a-469a-9428-2882d0c8a1cb"
      },
      "execution_count": 6,
      "outputs": [
        {
          "output_type": "stream",
          "name": "stdout",
          "text": [
            "2 is a prime number.\n",
            "3 is a prime number.\n",
            "5 is a prime number.\n",
            "7 is a prime number.\n",
            "11 is a prime number.\n",
            "13 is a prime number.\n",
            "17 is a prime number.\n",
            "19 is a prime number.\n",
            "23 is a prime number.\n",
            "29 is a prime number.\n",
            "31 is a prime number.\n",
            "37 is a prime number.\n",
            "41 is a prime number.\n",
            "43 is a prime number.\n",
            "47 is a prime number.\n",
            "53 is a prime number.\n",
            "59 is a prime number.\n",
            "61 is a prime number.\n",
            "67 is a prime number.\n",
            "71 is a prime number.\n",
            "73 is a prime number.\n",
            "79 is a prime number.\n",
            "83 is a prime number.\n",
            "89 is a prime number.\n",
            "97 is a prime number.\n",
            "101 is a prime number.\n",
            "103 is a prime number.\n",
            "107 is a prime number.\n",
            "109 is a prime number.\n",
            "113 is a prime number.\n",
            "127 is a prime number.\n",
            "131 is a prime number.\n",
            "137 is a prime number.\n",
            "139 is a prime number.\n",
            "149 is a prime number.\n",
            "151 is a prime number.\n",
            "157 is a prime number.\n",
            "163 is a prime number.\n",
            "167 is a prime number.\n",
            "173 is a prime number.\n",
            "179 is a prime number.\n",
            "181 is a prime number.\n",
            "191 is a prime number.\n",
            "193 is a prime number.\n",
            "197 is a prime number.\n",
            "199 is a prime number.\n"
          ]
        }
      ]
    },
    {
      "cell_type": "code",
      "source": [
        "#5. Create an iterator class in Python that generates the Fibonacci sequence up to a specified number of terms.\n",
        "\n",
        "class FibonacciIterator:\n",
        "    '''\n",
        "    Iterator class to generate Fibonacci sequence up to a specified number of terms.\n",
        "    '''\n",
        "    def __init__(self, n_terms):\n",
        "        self.n_terms = n_terms\n",
        "        self.current = 0\n",
        "        self.next = 1\n",
        "        self.count = 0\n",
        "\n",
        "    def __iter__(self):\n",
        "        return self\n",
        "\n",
        "    def __next__(self):\n",
        "        if self.count >= self.n_terms:\n",
        "            raise StopIteration\n",
        "        if self.count == 0:\n",
        "            self.count += 1\n",
        "            return 0\n",
        "        elif self.count == 1:\n",
        "            self.count += 1\n",
        "            return 1\n",
        "        else:\n",
        "            fib = self.current + self.next\n",
        "            self.current = self.next\n",
        "            self.next = fib\n",
        "            self.count += 1\n",
        "            return fib\n",
        "\n",
        "n = 10\n",
        "fib_iterator = FibonacciIterator(n)\n",
        "for fib in fib_iterator:\n",
        "    print(fib, end=\" \")\n",
        "\n"
      ],
      "metadata": {
        "colab": {
          "base_uri": "https://localhost:8080/"
        },
        "id": "ziYPiUj9Wb4m",
        "outputId": "93271e2b-d44f-439a-af91-ccd0035f40a9"
      },
      "execution_count": 7,
      "outputs": [
        {
          "output_type": "stream",
          "name": "stdout",
          "text": [
            "0 1 1 2 3 5 8 13 21 34 "
          ]
        }
      ]
    },
    {
      "cell_type": "code",
      "source": [
        "#6. Write a generator function in Python that yields the powers of 2 up to a given exponent\n",
        "\n",
        "def powers_of_two(max_exponent):\n",
        "  for exponent in range(max_exponent + 1):\n",
        "      yield 2 ** exponent\n",
        "\n",
        "max_exp = 8\n",
        "for power in powers_of_two(max_exp):\n",
        "    print(power, end=\" \")\n"
      ],
      "metadata": {
        "colab": {
          "base_uri": "https://localhost:8080/"
        },
        "id": "02iHe-xXXDk8",
        "outputId": "4b6b6bde-02b1-4ed6-b04c-e7379424837c"
      },
      "execution_count": 9,
      "outputs": [
        {
          "output_type": "stream",
          "name": "stdout",
          "text": [
            "1 2 4 8 16 32 64 128 256 "
          ]
        }
      ]
    },
    {
      "cell_type": "code",
      "source": [
        "#7. Implement a generator function that reads a file line by line and yields each line as a string.\n",
        "\n",
        "def read_file_line_by_line(file_path):\n",
        "\n",
        "    try:\n",
        "        with open(file_path, 'r') as file:\n",
        "            for line in file:\n",
        "                yield line.strip()\n",
        "    except FileNotFoundError:\n",
        "        print(f\"Error: The file '{file_path}' was not found. Please check the file path.\")\n",
        "\n",
        "\n",
        "file_path = \"example.txt\"\n",
        "for line in read_file_line_by_line(file_path):\n",
        "    print(line)\n",
        "\n"
      ],
      "metadata": {
        "colab": {
          "base_uri": "https://localhost:8080/"
        },
        "id": "pyLWS60XXj30",
        "outputId": "16005b03-5cf3-4d01-b9db-15b6ff7eb0cf"
      },
      "execution_count": 12,
      "outputs": [
        {
          "output_type": "stream",
          "name": "stdout",
          "text": [
            "Error: The file 'example.txt' was not found. Please check the file path.\n"
          ]
        }
      ]
    },
    {
      "cell_type": "code",
      "source": [
        "#8. Use a lambda function in Python to sort a list of tuples based on the second element of each tuple.\n",
        "\n",
        "tuples_list = [(1, 3), (4, 1), (2, 5), (3, 2)]\n",
        "\n",
        "sorted_tuples = sorted(tuples_list, key=lambda x: x[1])\n",
        "\n",
        "print(\"Sorted list of tuples:\", sorted_tuples)\n"
      ],
      "metadata": {
        "colab": {
          "base_uri": "https://localhost:8080/"
        },
        "id": "3J_wvvc1X5DC",
        "outputId": "c239cd38-5dc0-46b7-9682-cadd1bef080b"
      },
      "execution_count": 1,
      "outputs": [
        {
          "output_type": "stream",
          "name": "stdout",
          "text": [
            "Sorted list of tuples: [(4, 1), (3, 2), (1, 3), (2, 5)]\n"
          ]
        }
      ]
    },
    {
      "cell_type": "code",
      "source": [
        "#9. Write a Python program that uses `map()` to convert a list of temperatures from Celsius to Fahrenheit.\n",
        "\n",
        "# Function to convert Celsius to Fahrenheit\n",
        "def celsius_to_fahr(celsius):\n",
        "    return (celsius * 9/5) + 32\n",
        "\n",
        "# List of temperatures in Celsius\n",
        "celsius_temps = [0, 20, 30, 40, 100]\n",
        "\n",
        "# Use map() to apply the conversion function to each temperature\n",
        "fahr_temps = list(map(celsius_to_fahrenheit, celsius_temps))\n",
        "\n",
        "print(\"Temperatures in Fahr:\", fahr_temps)\n"
      ],
      "metadata": {
        "colab": {
          "base_uri": "https://localhost:8080/"
        },
        "id": "FuWq68Bxw_8y",
        "outputId": "fd735fc1-c7c2-4b8a-f4f1-24522191960a"
      },
      "execution_count": 4,
      "outputs": [
        {
          "output_type": "stream",
          "name": "stdout",
          "text": [
            "Temperatures in Fahr: [32.0, 68.0, 86.0, 104.0, 212.0]\n"
          ]
        }
      ]
    },
    {
      "cell_type": "code",
      "source": [
        "# 10.. Create a Python program that uses `filter()` to remove all the vowels from a given string.\n",
        "\n",
        "# Function to check if a character is not a vowel\n",
        "def is_not_vowel(char):\n",
        "    return char.lower() not in 'aeiou'\n",
        "\n",
        "input_string = \"Sneha Trivedi\"\n",
        "\n",
        "# Use filter() to remove vowels\n",
        "filtered_string = ''.join(filter(is_not_vowel, input_string))\n",
        "\n",
        "print(\"String without vowels:\", filtered_string)\n"
      ],
      "metadata": {
        "colab": {
          "base_uri": "https://localhost:8080/"
        },
        "id": "vurqy2Bcxunk",
        "outputId": "4bad7192-3388-4511-ab57-376ae125d72d"
      },
      "execution_count": 6,
      "outputs": [
        {
          "output_type": "stream",
          "name": "stdout",
          "text": [
            "String without vowels: Snh Trvd\n"
          ]
        }
      ]
    },
    {
      "cell_type": "code",
      "source": [
        "# 11.Write a Python program, which returns a list with 2-tuples. Each tuple consists of the order number and theproduct of the price per item and the quantity. The product should be increased by 10,- € if the value of theorder is smaller than 100,00 €.\n",
        "\n",
        "# list of containing order details\n",
        "orders = [\n",
        "    [34587, \"Learning Python, Mark Lutz\", 4, 40.95],\n",
        "    [98762, \"Programming Python, Mark Lutz\", 5, 56.80],\n",
        "    [77226, \"Head First Python, Paul Barry\", 3, 32.95],\n",
        "    [88112, \"Einführung in Python3, Bernd Klein\", 3, 24.99]\n",
        "]\n",
        "\n",
        "# Use map() and lambda to calculate the total for each order\n",
        "order_totals = list(map(lambda order: (order[0], (order[2] * order[3]) + 10) if (order[2] * order[3]) < 100 else (order[0], order[2] * order[3]), orders))\n",
        "\n",
        "#result\n",
        "print(order_totals)\n"
      ],
      "metadata": {
        "colab": {
          "base_uri": "https://localhost:8080/"
        },
        "id": "_JtbV57cytRG",
        "outputId": "217d516f-e011-4acb-a113-521e21c75822"
      },
      "execution_count": 7,
      "outputs": [
        {
          "output_type": "stream",
          "name": "stdout",
          "text": [
            "[(34587, 163.8), (98762, 284.0), (77226, 108.85000000000001), (88112, 84.97)]\n"
          ]
        }
      ]
    },
    {
      "cell_type": "code",
      "source": [],
      "metadata": {
        "id": "mI6A2U9J16oK"
      },
      "execution_count": null,
      "outputs": []
    }
  ]
}